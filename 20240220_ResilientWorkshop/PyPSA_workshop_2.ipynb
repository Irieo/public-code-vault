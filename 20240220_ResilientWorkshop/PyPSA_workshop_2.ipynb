{
 "cells": [
  {
   "cell_type": "markdown",
   "metadata": {},
   "source": [
    "### Problem 2: two generators, single load, single bus optimization problem.\n",
    "- multiple time periods\n",
    "- dual values"
   ]
  },
  {
   "cell_type": "code",
   "execution_count": null,
   "metadata": {},
   "outputs": [],
   "source": [
    "### Problem formulation\n",
    "# generator 1: \"gas\" (CCGT), marginal cost 70 EUR/MWh, capacity 50 MW\n",
    "# generator 2: \"coal\" (hard coal), marginal cost 40 EUR/MWh, capacity 100 MW\n",
    "# load: \"DE\" (Germany)\n",
    "# multiple time steps"
   ]
  },
  {
   "cell_type": "code",
   "execution_count": null,
   "metadata": {},
   "outputs": [],
   "source": [
    "import pypsa\n",
    "import numpy as np\n",
    "import pandas as pd\n",
    "import linopy\n",
    "import matplotlib.pyplot as plt"
   ]
  },
  {
   "cell_type": "markdown",
   "metadata": {},
   "source": [
    "### Create PyPSA network with components of the problem"
   ]
  },
  {
   "cell_type": "code",
   "execution_count": null,
   "metadata": {},
   "outputs": [],
   "source": [
    "n = pypsa.Network()"
   ]
  },
  {
   "cell_type": "code",
   "execution_count": null,
   "metadata": {},
   "outputs": [],
   "source": [
    "n.add(\"Bus\", \"DE\", v_nom=380)"
   ]
  },
  {
   "cell_type": "code",
   "execution_count": null,
   "metadata": {},
   "outputs": [],
   "source": [
    "n.add(\n",
    "    \"Generator\",\n",
    "    \"gas\",\n",
    "    bus=\"DE\",\n",
    "    p_nom_extendable=False,\n",
    "    marginal_cost=70,  # €/MWh\n",
    "    p_nom=50,  # MW\n",
    ")\n",
    "n.add(\n",
    "    \"Generator\",\n",
    "    \"coal\",\n",
    "    bus=\"DE\",\n",
    "    p_nom_extendable=False,\n",
    "    marginal_cost=40,  # €/MWh\n",
    "    p_nom=100,  # MW\n",
    ")"
   ]
  },
  {
   "cell_type": "code",
   "execution_count": null,
   "metadata": {},
   "outputs": [],
   "source": [
    "n.snapshots = pd.date_range(\"2019-01-01\", periods=5, freq=\"h\")"
   ]
  },
  {
   "cell_type": "code",
   "execution_count": null,
   "metadata": {},
   "outputs": [],
   "source": [
    "load_series = pd.Series([80, 90, 110, 120, 100], index=n.snapshots)"
   ]
  },
  {
   "cell_type": "code",
   "execution_count": null,
   "metadata": {},
   "outputs": [],
   "source": [
    "load_series"
   ]
  },
  {
   "cell_type": "code",
   "execution_count": null,
   "metadata": {},
   "outputs": [],
   "source": [
    "# add load\n",
    "n.add(\n",
    "    \"Load\",\n",
    "    \"Germany\",\n",
    "    bus=\"DE\",\n",
    "    p_set=load_series,  # MW\n",
    ")"
   ]
  },
  {
   "cell_type": "markdown",
   "metadata": {},
   "source": [
    "### Solve with PyPSA optimize module (use the default mathematical problem)"
   ]
  },
  {
   "cell_type": "code",
   "execution_count": null,
   "metadata": {},
   "outputs": [],
   "source": [
    "# n.optimize.create_model()"
   ]
  },
  {
   "cell_type": "code",
   "execution_count": null,
   "metadata": {},
   "outputs": [],
   "source": [
    "n.optimize(solver_name=\"glpk\")"
   ]
  },
  {
   "cell_type": "code",
   "execution_count": null,
   "metadata": {},
   "outputs": [],
   "source": [
    "n.objective"
   ]
  },
  {
   "cell_type": "code",
   "execution_count": null,
   "metadata": {},
   "outputs": [],
   "source": [
    "n.generators_t.p"
   ]
  },
  {
   "cell_type": "code",
   "execution_count": null,
   "metadata": {},
   "outputs": [],
   "source": [
    "def plot_dispatch(n):\n",
    "    df = n.generators_t.p\n",
    "    colors = {\"coal\": \"#8B4513\", \"gas\": \"#FFA500\"}\n",
    "    df = df[[\"coal\", \"gas\"]]\n",
    "    df.plot(kind=\"bar\", stacked=True, width=0.9, color=[colors[c] for c in df.columns])\n",
    "    plt.xticks(np.arange(len(df.index)), df.index.strftime(\"%H:%M\"))\n",
    "    plt.xticks(rotation=0)\n",
    "    plt.xlabel(\"Time\")\n",
    "    plt.ylabel(\"MW\")\n",
    "    plt.legend(loc=\"upper left\")\n",
    "    plt.show()\n",
    "\n",
    "\n",
    "plot_dispatch(n)"
   ]
  },
  {
   "cell_type": "markdown",
   "metadata": {},
   "source": [
    "### Explore & discuss duals"
   ]
  },
  {
   "cell_type": "code",
   "execution_count": null,
   "metadata": {},
   "outputs": [],
   "source": [
    "n.model.dual"
   ]
  },
  {
   "cell_type": "code",
   "execution_count": null,
   "metadata": {},
   "outputs": [],
   "source": [
    "# https://www.epexspot.com/en/market-data"
   ]
  }
 ],
 "metadata": {
  "kernelspec": {
   "display_name": "pypsa-eur",
   "language": "python",
   "name": "python3"
  },
  "language_info": {
   "codemirror_mode": {
    "name": "ipython",
    "version": 3
   },
   "file_extension": ".py",
   "mimetype": "text/x-python",
   "name": "python",
   "nbconvert_exporter": "python",
   "pygments_lexer": "ipython3",
   "version": "3.11.7"
  }
 },
 "nbformat": 4,
 "nbformat_minor": 2
}
